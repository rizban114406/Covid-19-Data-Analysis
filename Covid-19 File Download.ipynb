{
 "cells": [
  {
   "cell_type": "code",
   "execution_count": 14,
   "metadata": {},
   "outputs": [
    {
     "name": "stdout",
     "output_type": "stream",
     "text": [
      "Beginning file download with urllib2...\n"
     ]
    },
    {
     "data": {
      "text/plain": [
       "('./downloads/geee.pdf', <http.client.HTTPMessage at 0x14595048860>)"
      ]
     },
     "execution_count": 14,
     "metadata": {},
     "output_type": "execute_result"
    }
   ],
   "source": [
    "import urllib.request\n",
    "\n",
    "print('Beginning file download with urllib2...')\n",
    "\n",
    "url = 'https://www.iedcr.gov.bd/website/images/files/nCoV/nCoV%20Press%20Release%2002022020.pdf'\n",
    "urllib.request.urlretrieve(url, './downloads/geee.pdf')"
   ]
  },
  {
   "cell_type": "code",
   "execution_count": 40,
   "metadata": {
    "scrolled": false
   },
   "outputs": [
    {
     "name": "stderr",
     "output_type": "stream",
     "text": [
      "Some characters could not be decoded, and were replaced with REPLACEMENT CHARACTER.\n"
     ]
    }
   ],
   "source": [
    "import re\n",
    "import psutil,os\n",
    "import bs4 as bs\n",
    "import urllib.request\n",
    "import os.path\n",
    "from os import path\n",
    "\n",
    "main_url='https://www.iedcr.gov.bd/website/images/files/nCoV/'\n",
    "source = urllib.request.urlopen(main_url).read()\n",
    "# print(source)\n",
    "soup = bs.BeautifulSoup(source,'html.parser')\n",
    "# print(soup)\n",
    "script=soup.find_all('a',href = True)\n",
    "for links in soup.find_all('a',href = True):\n",
    "    if (len(links['href']) > 15 and len(links['href']) < 100 and ('.pdf' in str(links['href']))):\n",
    "        url = 'https://www.iedcr.gov.bd/website/images/files/nCoV/' + str(links['href'])\n",
    "        destination = './downloads/' + str(links['href'])\n",
    "        if path.exists(destination) == False:\n",
    "            print(\"New Downloading File: {}\".format(links['href']))\n",
    "#             print(len(links['href']))\n",
    "            urllib.request.urlretrieve(url, destination)"
   ]
  },
  {
   "cell_type": "code",
   "execution_count": null,
   "metadata": {},
   "outputs": [],
   "source": []
  }
 ],
 "metadata": {
  "kernelspec": {
   "display_name": "Python 3",
   "language": "python",
   "name": "python3"
  },
  "language_info": {
   "codemirror_mode": {
    "name": "ipython",
    "version": 3
   },
   "file_extension": ".py",
   "mimetype": "text/x-python",
   "name": "python",
   "nbconvert_exporter": "python",
   "pygments_lexer": "ipython3",
   "version": "3.7.3"
  }
 },
 "nbformat": 4,
 "nbformat_minor": 2
}
