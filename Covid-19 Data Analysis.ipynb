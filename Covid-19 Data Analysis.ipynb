{
 "cells": [
  {
   "cell_type": "code",
   "execution_count": 1,
   "metadata": {},
   "outputs": [
    {
     "name": "stdout",
     "output_type": "stream",
     "text": [
      "['bmh', 'classic', 'dark_background', 'fast', 'fivethirtyeight', 'ggplot', 'grayscale', 'seaborn-bright', 'seaborn-colorblind', 'seaborn-dark-palette', 'seaborn-dark', 'seaborn-darkgrid', 'seaborn-deep', 'seaborn-muted', 'seaborn-notebook', 'seaborn-paper', 'seaborn-pastel', 'seaborn-poster', 'seaborn-talk', 'seaborn-ticks', 'seaborn-white', 'seaborn-whitegrid', 'seaborn', 'Solarize_Light2', 'tableau-colorblind10', '_classic_test']\n"
     ]
    },
    {
     "data": {
      "text/plain": [
       "<Figure size 640x480 with 1 Axes>"
      ]
     },
     "metadata": {},
     "output_type": "display_data"
    }
   ],
   "source": [
    "import pandas as pd\n",
    "import numpy as np\n",
    "import matplotlib.pyplot as plt\n",
    "import matplotlib.ticker as mticker\n",
    "import matplotlib.dates as mdates\n",
    "from matplotlib import style\n",
    "print(plt.style.available)\n",
    "# style.use('fivethirtyeight')\n",
    "fig = plt.figure()\n",
    "ax1 = plt.subplot2grid((1,1), (0,0))\n",
    "dataFromCsv = pd.read_csv('./Analysis Data/internationalCovid19Status.csv')\n",
    "# print(dataFromCsv['id'])\n",
    "# print(dataFromCsv['totalConfirmed'])\n",
    "\n",
    "ax1.bar(dataFromCsv['id'][0:20],dataFromCsv['totalConfirmed'][0:20], label='Number of Cases', color='#800000')\n",
    "\n",
    "# ax1.plot(data_file['Date'],data_file['Number of Cases'])\n",
    "# # ax1.xaxis.set_major_formatter(mdates.DateFormatter('%Y/%m/%d'))\n",
    "# # ax1.xaxis.set_major_locator(mticker.MaxNLocator(10))\n",
    "for label in ax1.xaxis.get_ticklabels(): # loop to change the x axis label rotation\n",
    "    label.set_rotation(90)\n",
    "# ax1.grid(True)#, color='g', linest\n",
    "ax1.spines['left'].set_color('c')#Making graph Left line color cyan\n",
    "ax1.spines['right'].set_visible(False)# No right line\n",
    "ax1.spines['top'].set_visible(False)# No top line\n",
    "ax1.spines['left'].set_linewidth(2) # Left line thick\n",
    "\n",
    "\n",
    "plt.xlabel('Country')\n",
    "plt.ylabel('Number of Cases')\n",
    "plt.title(\"Number of Cases\")\n",
    "plt.legend()\n",
    "plt.subplots_adjust(left=0.09, bottom=0.20, right=0.94, top=0.90, wspace=0.2, hspace=0)\n",
    "plt.show()\n"
   ]
  }
 ],
 "metadata": {
  "kernelspec": {
   "display_name": "Python 3",
   "language": "python",
   "name": "python3"
  },
  "language_info": {
   "codemirror_mode": {
    "name": "ipython",
    "version": 3
   },
   "file_extension": ".py",
   "mimetype": "text/x-python",
   "name": "python",
   "nbconvert_exporter": "python",
   "pygments_lexer": "ipython3",
   "version": "3.7.4"
  }
 },
 "nbformat": 4,
 "nbformat_minor": 2
}
