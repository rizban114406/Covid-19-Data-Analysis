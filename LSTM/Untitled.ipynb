{
 "cells": [
  {
   "cell_type": "code",
   "execution_count": 1,
   "metadata": {},
   "outputs": [
    {
     "name": "stderr",
     "output_type": "stream",
     "text": [
      "Using TensorFlow backend.\n"
     ]
    },
    {
     "name": "stdout",
     "output_type": "stream",
     "text": [
      "WARNING:tensorflow:From C:\\Users\\User\\Anaconda3\\lib\\site-packages\\tensorflow\\python\\framework\\op_def_library.py:263: colocate_with (from tensorflow.python.framework.ops) is deprecated and will be removed in a future version.\n",
      "Instructions for updating:\n",
      "Colocations handled automatically by placer.\n",
      "WARNING:tensorflow:From C:\\Users\\User\\Anaconda3\\lib\\site-packages\\tensorflow\\python\\ops\\math_ops.py:3066: to_int32 (from tensorflow.python.ops.math_ops) is deprecated and will be removed in a future version.\n",
      "Instructions for updating:\n",
      "Use tf.cast instead.\n",
      "Epoch 1/14\n",
      " - 1s - loss: 0.1187\n",
      "Epoch 2/14\n",
      " - 0s - loss: 0.0836\n",
      "Epoch 3/14\n",
      " - 0s - loss: 0.0583\n",
      "Epoch 4/14\n",
      " - 0s - loss: 0.0385\n",
      "Epoch 5/14\n",
      " - 0s - loss: 0.0271\n",
      "Epoch 6/14\n",
      " - 0s - loss: 0.0181\n",
      "Epoch 7/14\n",
      " - 0s - loss: 0.0143\n",
      "Epoch 8/14\n",
      " - 0s - loss: 0.0120\n",
      "Epoch 9/14\n",
      " - 0s - loss: 0.0109\n",
      "Epoch 10/14\n",
      " - 0s - loss: 0.0101\n",
      "Epoch 11/14\n",
      " - 0s - loss: 0.0094\n",
      "Epoch 12/14\n",
      " - 0s - loss: 0.0089\n",
      "Epoch 13/14\n",
      " - 0s - loss: 0.0082\n",
      "Epoch 14/14\n",
      " - 0s - loss: 0.0077\n",
      "9\n",
      "25\n",
      "Train Score: 3.51 RMSE\n",
      "Test Score: 10.97 RMSE\n"
     ]
    },
    {
     "data": {
      "text/plain": [
       "<Figure size 640x480 with 1 Axes>"
      ]
     },
     "metadata": {},
     "output_type": "display_data"
    },
    {
     "name": "stdout",
     "output_type": "stream",
     "text": [
      "[[10.118426 ]\n",
      " [10.6263685]\n",
      " [11.140667 ]\n",
      " [11.660408 ]\n",
      " [12.1846695]\n",
      " [12.712523 ]\n",
      " [13.243049 ]\n",
      " [13.775334 ]\n",
      " [14.308488 ]\n",
      " [14.841648 ]\n",
      " [15.373978 ]\n",
      " [15.904678 ]\n",
      " [16.432999 ]\n",
      " [16.958231 ]\n",
      " [17.479713 ]\n",
      " [17.996834 ]\n",
      " [18.509039 ]\n",
      " [19.015821 ]\n",
      " [19.516735 ]\n",
      " [20.011383 ]\n",
      " [20.499426 ]\n",
      " [20.98056  ]\n",
      " [21.45455  ]\n",
      " [21.921194 ]\n",
      " [22.380339 ]]\n",
      "[[24.560928]\n",
      " [24.97396 ]\n",
      " [25.379408]\n",
      " [25.777367]\n",
      " [26.167955]\n",
      " [26.5513  ]\n",
      " [26.927544]\n",
      " [27.296837]\n",
      " [27.659351]]\n"
     ]
    }
   ],
   "source": [
    "\n",
    "# LSTM for international airline passengers problem with time step regression framing\n",
    "import numpy\n",
    "import matplotlib.pyplot as plt\n",
    "from pandas import read_csv\n",
    "import math\n",
    "from keras.models import Sequential\n",
    "from keras.layers import Dense\n",
    "from keras.layers import LSTM\n",
    "from sklearn.preprocessing import MinMaxScaler\n",
    "from sklearn.metrics import mean_squared_error\n",
    "# convert an array of values into a dataset matrix\n",
    "def create_dataset(dataset, look_back=1):\n",
    "\tdataX, dataY = [], []\n",
    "\tfor i in range(len(dataset)-look_back-1):\n",
    "\t\ta = dataset[i:(i+look_back), 0]\n",
    "\t\tdataX.append(a)\n",
    "\t\tdataY.append(dataset[i + look_back, 0])\n",
    "\treturn numpy.array(dataX), numpy.array(dataY)\n",
    "# fix random seed for reproducibility\n",
    "numpy.random.seed(7)\n",
    "# load the dataset\n",
    "dataframe = read_csv('per.csv', usecols=[1], engine='python')\n",
    "dataset = dataframe.values\n",
    "dataset = dataset.astype('float32')\n",
    "# normalize the dataset\n",
    "scaler = MinMaxScaler(feature_range=(0, 1))\n",
    "dataset = scaler.fit_transform(dataset)\n",
    "# split into train and test sets\n",
    "train_size = int(len(dataset) * 0.70)\n",
    "test_size = len(dataset) - train_size\n",
    "train, test = dataset[0:train_size,:], dataset[train_size:len(dataset),:]\n",
    "# reshape into X=t and Y=t+1\n",
    "look_back = 3\n",
    "trainX, trainY = create_dataset(train, look_back)\n",
    "testX, testY = create_dataset(test, look_back)\n",
    "# reshape input to be [samples, time steps, features]\n",
    "trainX = numpy.reshape(trainX, (trainX.shape[0], trainX.shape[1], 1))\n",
    "testX = numpy.reshape(testX, (testX.shape[0], testX.shape[1], 1))\n",
    "# create and fit the LSTM network\n",
    "model = Sequential()\n",
    "model.add(LSTM(4, input_shape=(look_back, 1)))\n",
    "model.add(Dense(1))\n",
    "model.compile(loss='mean_squared_error', optimizer='adam')\n",
    "model.fit(trainX, trainY, epochs=14, batch_size=1, verbose=2)\n",
    "# make predictions\n",
    "trainPredict = model.predict(trainX)\n",
    "testPredict = model.predict(testX)\n",
    "print(len(testX))\n",
    "print(len(trainX))\n",
    "# invert predictions\n",
    "trainPredict = scaler.inverse_transform(trainPredict)\n",
    "trainY = scaler.inverse_transform([trainY])\n",
    "testPredict = scaler.inverse_transform(testPredict)\n",
    "testY = scaler.inverse_transform([testY])\n",
    "# calculate root mean squared error\n",
    "trainScore = math.sqrt(mean_squared_error(trainY[0], trainPredict[:,0]))\n",
    "print('Train Score: %.2f RMSE' % (trainScore))\n",
    "testScore = math.sqrt(mean_squared_error(testY[0], testPredict[:,0]))\n",
    "print('Test Score: %.2f RMSE' % (testScore))\n",
    "# shift train predictions for plotting\n",
    "trainPredictPlot = numpy.empty_like(dataset)\n",
    "trainPredictPlot[:, :] = numpy.nan\n",
    "trainPredictPlot[look_back:len(trainPredict)+look_back, :] = trainPredict\n",
    "# shift test predictions for plotting\n",
    "testPredictPlot = numpy.empty_like(dataset)\n",
    "testPredictPlot[:, :] = numpy.nan\n",
    "testPredictPlot[len(trainPredict)+(look_back*2)+1:len(dataset)-1, :] = testPredict\n",
    "# plot baseline and predictions\n",
    "#plt.plot(scaler.inverse_transform(dataset))\n",
    "plt.plot(trainPredictPlot)\n",
    "plt.plot(testPredictPlot)\n",
    "plt.show()\n",
    "print(trainPredict)\n",
    "print(testPredict)\n"
   ]
  },
  {
   "cell_type": "code",
   "execution_count": 5,
   "metadata": {},
   "outputs": [],
   "source": [
    "import numpy as np\n",
    "import pandas as pd\n",
    "import matplotlib.pylab as plt\n",
    "from matplotlib.pylab import rcParams\n",
    "rcParams['figure.figsize'] = 10,6"
   ]
  },
  {
   "cell_type": "code",
   "execution_count": 17,
   "metadata": {},
   "outputs": [
    {
     "name": "stdout",
     "output_type": "stream",
     "text": [
      "            Case\n",
      "Date            \n",
      "2020-03-08     3\n",
      "2020-03-09     0\n",
      "2020-03-10     0\n",
      "2020-03-11     0\n",
      "2020-03-12     0\n",
      "2020-03-13     0\n",
      "2020-03-14     0\n",
      "2020-03-15     2\n",
      "2020-03-16     3\n",
      "2020-03-17     2\n",
      "2020-03-18     4\n",
      "2020-03-19     3\n",
      "2020-03-20     3\n",
      "2020-03-21     4\n",
      "2020-03-22     3\n",
      "2020-03-23     6\n",
      "2020-03-24     6\n",
      "2020-03-25     0\n",
      "2020-03-26     5\n",
      "2020-03-27     4\n",
      "2020-03-28     0\n",
      "2020-03-29     0\n",
      "2020-03-30     1\n",
      "2020-03-31     2\n",
      "2020-04-01     3\n",
      "2020-04-02     2\n",
      "2020-04-03     5\n",
      "2020-04-04     9\n",
      "2020-04-05    18\n",
      "2020-04-06    35\n",
      "2020-04-07    41\n",
      "2020-04-08    54\n",
      "2020-04-09   112\n",
      "2020-04-10    94\n",
      "2020-04-11    58\n",
      "2020-04-12   139\n",
      "2020-04-13   182\n",
      "2020-04-14   209\n",
      "2020-04-15   268\n",
      "2020-04-16   292\n",
      "2020-04-17   266\n",
      "2020-04-18   306\n",
      "2020-04-19   312\n",
      "2020-04-20   492\n"
     ]
    }
   ],
   "source": [
    "dataFromCsv = pd.read_csv('../Analysis Data/covid-19-PerDayCaseSummaryBD.csv')\n",
    "dataFromCsv['Date'] = pd.to_datetime(dataFromCsv['Date'], infer_datetime_format=True)\n",
    "indexDataSet = dataFromCsv[['Date','Case']]\n",
    "indexDataSet = indexDataSet.set_index(['Date'])\n",
    "print(indexDataSet)"
   ]
  },
  {
   "cell_type": "code",
   "execution_count": 19,
   "metadata": {},
   "outputs": [
    {
     "data": {
      "text/plain": [
       "[<matplotlib.lines.Line2D at 0x29ab24426d8>]"
      ]
     },
     "execution_count": 19,
     "metadata": {},
     "output_type": "execute_result"
    },
    {
     "data": {
      "image/png": "[encoded data removed]",
      "text/plain": [
       "<Figure size 720x432 with 1 Axes>"
      ]
     },
     "metadata": {
      "needs_background": "light"
     },
     "output_type": "display_data"
    }
   ],
   "source": [
    "plt.xlabel(\"Date\")\n",
    "plt.ylabel(\"Number of Cases\")\n",
    "plt.plot(indexDataSet)"
   ]
  },
  {
   "cell_type": "code",
   "execution_count": 22,
   "metadata": {},
   "outputs": [
    {
     "name": "stdout",
     "output_type": "stream",
     "text": [
      "             Case\n",
      "Date             \n",
      "2020-03-08    NaN\n",
      "2020-03-09    NaN\n",
      "2020-03-10    NaN\n",
      "2020-03-11    NaN\n",
      "2020-03-12    0.6\n",
      "2020-03-13    0.0\n",
      "2020-03-14    0.0\n",
      "2020-03-15    0.4\n",
      "2020-03-16    1.0\n",
      "2020-03-17    1.4\n",
      "2020-03-18    2.2\n",
      "2020-03-19    2.8\n",
      "2020-03-20    3.0\n",
      "2020-03-21    3.2\n",
      "2020-03-22    3.4\n",
      "2020-03-23    3.8\n",
      "2020-03-24    4.4\n",
      "2020-03-25    3.8\n",
      "2020-03-26    4.0\n",
      "2020-03-27    4.2\n",
      "2020-03-28    3.0\n",
      "2020-03-29    1.8\n",
      "2020-03-30    2.0\n",
      "2020-03-31    1.4\n",
      "2020-04-01    1.2\n",
      "2020-04-02    1.6\n",
      "2020-04-03    2.6\n",
      "2020-04-04    4.2\n",
      "2020-04-05    7.4\n",
      "2020-04-06   13.8\n",
      "2020-04-07   21.6\n",
      "2020-04-08   31.4\n",
      "2020-04-09   52.0\n",
      "2020-04-10   67.2\n",
      "2020-04-11   71.8\n",
      "2020-04-12   91.4\n",
      "2020-04-13  117.0\n",
      "2020-04-14  136.4\n",
      "2020-04-15  171.2\n",
      "2020-04-16  218.0\n",
      "2020-04-17  243.4\n",
      "2020-04-18  268.2\n",
      "2020-04-19  288.8\n",
      "2020-04-20  333.6\n"
     ]
    }
   ],
   "source": [
    "rolemean = indexDataSet.rolling(window = 5).mean()\n",
    "rolestd = indexDataSet.rolling(window = 5).std()\n",
    "print(rolemean)"
   ]
  },
  {
   "cell_type": "code",
   "execution_count": 24,
   "metadata": {},
   "outputs": [
    {
     "data": {
      "image/png": "[encoded data removed]",
      "text/plain": [
       "<Figure size 720x432 with 1 Axes>"
      ]
     },
     "metadata": {
      "needs_background": "light"
     },
     "output_type": "display_data"
    }
   ],
   "source": [
    "orig = plt.plot(indexDataSet, color='blue', label = 'Original')\n",
    "mean = plt.plot(rolemean, color='red', label = 'Rolling Mean')\n",
    "std = plt.plot(rolestd, color='black', label = 'Rolling std')\n",
    "\n",
    "plt.legend()\n",
    "plt.title('Rolling Mean & Standard Deviation')\n",
    "plt.show()"
   ]
  },
  {
   "cell_type": "code",
   "execution_count": 26,
   "metadata": {},
   "outputs": [
    {
     "name": "stdout",
     "output_type": "stream",
     "text": [
      "Test Statistic                 -0.272792\n",
      "p-value                         0.929270\n",
      "Lags Used                      10.000000\n",
      "Number of Observations Used    33.000000\n",
      "Crititical Values (1%)         -3.646135\n",
      "Crititical Values (5%)         -2.954127\n",
      "Crititical Values (10%)        -2.615968\n",
      "dtype: float64\n"
     ]
    }
   ],
   "source": [
    "# Dickry-fuller test\n",
    "from statsmodels.tsa.stattools import adfuller\n",
    "\n",
    "dftest = adfuller(indexDataSet['Case'], autolag='AIC')\n",
    "\n",
    "dfoutput = pd.Series(dftest[0:4], index=['Test Statistic', 'p-value', 'Lags Used', 'Number of Observations Used'])\n",
    "for key,value in dftest[4].items():\n",
    "    dfoutput['Crititical Values (%s)'%key] = value\n",
    "    \n",
    "print(dfoutput)"
   ]
  },
  {
   "cell_type": "code",
   "execution_count": 28,
   "metadata": {},
   "outputs": [
    {
     "name": "stderr",
     "output_type": "stream",
     "text": [
      "C:\\Users\\User\\Anaconda3\\lib\\site-packages\\ipykernel_launcher.py:1: RuntimeWarning: divide by zero encountered in log\n",
      "  \"\"\"Entry point for launching an IPython kernel.\n"
     ]
    },
    {
     "data": {
      "text/plain": [
       "[<matplotlib.lines.Line2D at 0x29ab80f3978>]"
      ]
     },
     "execution_count": 28,
     "metadata": {},
     "output_type": "execute_result"
    },
    {
     "data": {
      "image/png": "[encoded data removed]",
      "text/plain": [
       "<Figure size 720x432 with 1 Axes>"
      ]
     },
     "metadata": {
      "needs_background": "light"
     },
     "output_type": "display_data"
    }
   ],
   "source": [
    "indexDataSet_logScale = np.log(indexDataSet)\n",
    "plt.plot(indexDataSet_logScale)"
   ]
  }
 ],
 "metadata": {
  "kernelspec": {
   "display_name": "Python 3",
   "language": "python",
   "name": "python3"
  },
  "language_info": {
   "codemirror_mode": {
    "name": "ipython",
    "version": 3
   },
   "file_extension": ".py",
   "mimetype": "text/x-python",
   "name": "python",
   "nbconvert_exporter": "python",
   "pygments_lexer": "ipython3",
   "version": "3.7.3"
  }
 },
 "nbformat": 4,
 "nbformat_minor": 2
}
